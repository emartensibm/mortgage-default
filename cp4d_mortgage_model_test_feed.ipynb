{
 "cells": [
  {
   "cell_type": "code",
   "execution_count": null,
   "metadata": {},
   "outputs": [],
   "source": [
    "from watson_machine_learning_client import WatsonMachineLearningAPIClient\n",
    "\n",
    "wml_credentials = {\n",
    "    \"instance_id\": \"openshift\",\n",
    "    \"url\": \"https://zen-cpd-zen.apps.icp4d-experiences-lite-xx.demo.ibmcloud.com\",\n",
    "    \"username\":\"admin\",\n",
    "    \"password\": \"password\",\n",
    "    \"version\": \"2.5.0\"\n",
    "}\n",
    "wml_client = WatsonMachineLearningAPIClient(wml_credentials)"
   ]
  },
  {
   "cell_type": "code",
   "execution_count": null,
   "metadata": {},
   "outputs": [],
   "source": [
    "wml_client.version"
   ]
  },
  {
   "cell_type": "code",
   "execution_count": null,
   "metadata": {},
   "outputs": [],
   "source": [
    "space_name = \"OpenScale Deployment Space\"\n",
    "spaces = wml_client.spaces.get_details()['resources']\n",
    "space_id = None\n",
    "for space in spaces:\n",
    "    if space['entity']['name'] == space_name:\n",
    "        space_id = space[\"metadata\"][\"guid\"]\n",
    "wml_client.default_space_id = space_id"
   ]
  },
  {
   "cell_type": "code",
   "execution_count": null,
   "metadata": {},
   "outputs": [],
   "source": [
    "deployment_details = None\n",
    "for resource in wml_client.deployments.get_details()['resources']:\n",
    "    if resource['entity']['name'] == 'Mortgage Default - OpenScale':\n",
    "        deployment_details = resource\n",
    "scoring_uid = deployment_details['metadata']['guid']\n",
    "scoring_uid"
   ]
  },
  {
   "cell_type": "code",
   "execution_count": null,
   "metadata": {},
   "outputs": [],
   "source": [
    "!rm mortgage_feed.json\n",
    "!wget https://raw.githubusercontent.com/emartensibm/mortgage-default/master/mortgage_feed.json"
   ]
  },
  {
   "cell_type": "code",
   "execution_count": null,
   "metadata": {},
   "outputs": [],
   "source": [
    "import json\n",
    "\n",
    "with open('mortgage_feed.json', 'r') as scoring_file:\n",
    "    data = json.load(scoring_file)\n",
    "data['fields'][1:]"
   ]
  },
  {
   "cell_type": "code",
   "execution_count": null,
   "metadata": {},
   "outputs": [],
   "source": [
    "scoring_payload = {wml_client.deployments.ScoringMetaNames.INPUT_DATA:\n",
    "                   [\n",
    "                       {\n",
    "                           \"fields\": data['fields'][1:],\n",
    "                           \"values\": [],\n",
    "                           \"meta\": {\n",
    "                               \"fields\": [\"ID\"],\n",
    "                               \"values\": []\n",
    "                           }\n",
    "                       }\n",
    "                    ]\n",
    "                  }"
   ]
  },
  {
   "cell_type": "code",
   "execution_count": null,
   "metadata": {},
   "outputs": [],
   "source": [
    "import random\n",
    "import string\n",
    "\n",
    "letters = string.digits\n",
    "\n",
    "for _ in range(0, 101):\n",
    "    value_to_score = random.choice(data['values'])\n",
    "    scoring_payload['input_data'][0]['values'].append(value_to_score[1:])\n",
    "    scoring_payload['input_data'][0]['meta']['values'].append([int(''.join(random.choices(letters, k=8)))])\n",
    "print(len(scoring_payload['input_data'][0]['values']))"
   ]
  },
  {
   "cell_type": "code",
   "execution_count": null,
   "metadata": {},
   "outputs": [],
   "source": [
    "predictions = wml_client.deployments.score(scoring_uid, scoring_payload)\n",
    "print(predictions)"
   ]
  }
 ],
 "metadata": {
  "kernelspec": {
   "display_name": "Python 3.6",
   "language": "python",
   "name": "python3"
  },
  "language_info": {
   "codemirror_mode": {
    "name": "ipython",
    "version": 3
   },
   "file_extension": ".py",
   "mimetype": "text/x-python",
   "name": "python",
   "nbconvert_exporter": "python",
   "pygments_lexer": "ipython3",
   "version": "3.6.8"
  }
 },
 "nbformat": 4,
 "nbformat_minor": 1
}
