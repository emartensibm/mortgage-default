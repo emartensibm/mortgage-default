{
 "cells": [
  {
   "cell_type": "markdown",
   "metadata": {},
   "source": [
    "# Watson OpenScale Mortgage Default Lab - Model Feed"
   ]
  },
  {
   "cell_type": "markdown",
   "metadata": {},
   "source": [
    "Part two of a hands-on lab for IBM Watson OpenScale, this notebook should be run in a Watson Studio project with Python 3.6 or greater. This notebook will use the Watson Machine Learning client to send scoring requests to the model. You can specify the number of requests sent in the cells below.\n",
    "\n",
    "Replace the credentials below with those of your Watson Machine Learning instance with the mortgage default model deployed."
   ]
  },
  {
   "cell_type": "code",
   "execution_count": null,
   "metadata": {},
   "outputs": [],
   "source": [
    "WML_CREDENTIALS = {\n",
    "  \"apikey\": \"xxxxxxxxx\",\n",
    "  \"iam_apikey_description\": \"Auto-generated for key xxxxxxxx\",\n",
    "  \"iam_apikey_name\": \"openscale-credentials\",\n",
    "  \"iam_role_crn\": \"crn:v1:bluemix:public:iam::::serviceRole:Writer\",\n",
    "  \"iam_serviceid_crn\": \"crn:v1:bluemix:public:iam-identity::xxxxxxxxx\",\n",
    "  \"instance_id\": \"xxxxxxx\",\n",
    "  \"url\": \"https://us-south.ml.cloud.ibm.com\"\n",
    "}"
   ]
  },
  {
   "cell_type": "markdown",
   "metadata": {},
   "source": [
    "In the cell below, ensure that the model and deployment names are the same used for creating the model, and set the minimum and maximum number of records you wish to send to the model for scoring."
   ]
  },
  {
   "cell_type": "code",
   "execution_count": null,
   "metadata": {},
   "outputs": [],
   "source": [
    "MODEL_NAME = 'Mortgage Default'\n",
    "DEPLOYMENT_NAME = 'Mortgage Default - Production'\n",
    "\n",
    "MIN_PAYLOADS = 50\n",
    "MAX_PAYLOADS = 75"
   ]
  },
  {
   "cell_type": "markdown",
   "metadata": {},
   "source": [
    "Using the credentials from above, create a Watson Machine Learning API client."
   ]
  },
  {
   "cell_type": "code",
   "execution_count": null,
   "metadata": {},
   "outputs": [],
   "source": [
    "from watson_machine_learning_client import WatsonMachineLearningAPIClient\n",
    "\n",
    "client = WatsonMachineLearningAPIClient(WML_CREDENTIALS)"
   ]
  },
  {
   "cell_type": "markdown",
   "metadata": {},
   "source": [
    "Get the deployment and model IDs from the WML client."
   ]
  },
  {
   "cell_type": "code",
   "execution_count": null,
   "metadata": {},
   "outputs": [],
   "source": [
    "mortgage_deployment_id = None\n",
    "model_deployment_ids = client.deployments.get_uids()\n",
    "for deployment_id in model_deployment_ids:\n",
    "    deployment = client.deployments.get_details(deployment_id)\n",
    "    model_id = deployment['entity']['deployable_asset']['guid']\n",
    "    if deployment['entity']['name'] == DEPLOYMENT_NAME:\n",
    "        print('Deployment id:', deployment_id)\n",
    "        mortgage_deployment_id = deployment_id\n",
    "        print('Model id:', model_id)\n",
    "        break"
   ]
  },
  {
   "cell_type": "markdown",
   "metadata": {},
   "source": [
    "Get the scoring URL of the model."
   ]
  },
  {
   "cell_type": "code",
   "execution_count": null,
   "metadata": {},
   "outputs": [],
   "source": [
    "deployment_details = client.deployments.get_details(mortgage_deployment_id)\n",
    "scoring_url = deployment_details['entity']['scoring_url']\n",
    "scoring_url"
   ]
  },
  {
   "cell_type": "markdown",
   "metadata": {},
   "source": [
    "Download the JSON records from github."
   ]
  },
  {
   "cell_type": "code",
   "execution_count": null,
   "metadata": {},
   "outputs": [],
   "source": [
    "!rm mortgage_feed.json\n",
    "!wget https://raw.githubusercontent.com/emartensibm/mortgage-default/master/mortgage_feed.json"
   ]
  },
  {
   "cell_type": "code",
   "execution_count": null,
   "metadata": {},
   "outputs": [],
   "source": [
    "import json\n",
    "\n",
    "with open('mortgage_feed.json', 'r') as scoring_file:\n",
    "    data = json.load(scoring_file)"
   ]
  },
  {
   "cell_type": "markdown",
   "metadata": {},
   "source": [
    "Get the feature fields from the data file, dropping the transaction ID."
   ]
  },
  {
   "cell_type": "code",
   "execution_count": null,
   "metadata": {},
   "outputs": [],
   "source": [
    "data['fields'][1:]"
   ]
  },
  {
   "cell_type": "markdown",
   "metadata": {},
   "source": [
    "Set up the data structure for scoring requests. The ID field was not a feature used to train the model, but is still used to identify the transactions. For this reason, we will send it as metadata with the request, and it will be stored in the OpenScale payload log."
   ]
  },
  {
   "cell_type": "code",
   "execution_count": null,
   "metadata": {},
   "outputs": [],
   "source": [
    "scoring_payload = {\n",
    "    \"fields\": data['fields'][1:],\n",
    "    \"values\": [],\n",
    "    \"meta\":{\n",
    "        \"fields\": [\"ID\"],\n",
    "        \"values\": []\n",
    "    }\n",
    "}"
   ]
  },
  {
   "cell_type": "markdown",
   "metadata": {},
   "source": [
    "Randomly select fields from the data to score, and randomly assign an integer ID to each."
   ]
  },
  {
   "cell_type": "code",
   "execution_count": null,
   "metadata": {},
   "outputs": [],
   "source": [
    "import random\n",
    "import string\n",
    "\n",
    "letters = string.digits\n",
    "\n",
    "for _ in range(0, random.randint(MIN_PAYLOADS, MAX_PAYLOADS)):\n",
    "    value_to_score = random.choice(data['values'])\n",
    "    scoring_payload['values'].append(value_to_score[1:])\n",
    "    scoring_payload['meta']['values'].append([int(''.join(random.choices(letters, k=8)))])"
   ]
  },
  {
   "cell_type": "markdown",
   "metadata": {},
   "source": [
    "Send the scoring request to the model."
   ]
  },
  {
   "cell_type": "code",
   "execution_count": null,
   "metadata": {},
   "outputs": [],
   "source": [
    "predictions = client.deployments.score(scoring_url, scoring_payload)"
   ]
  },
  {
   "cell_type": "markdown",
   "metadata": {},
   "source": [
    "Print out the returned predictions."
   ]
  },
  {
   "cell_type": "code",
   "execution_count": null,
   "metadata": {},
   "outputs": [],
   "source": [
    "predictions"
   ]
  },
  {
   "cell_type": "markdown",
   "metadata": {},
   "source": [
    "# Congratulations!\n",
    "\n",
    "If all cells have run successfully, you have submitted data to your model. You can save a version of this notebook using the **File** menu above, and schedule it to run periodically to continue sending data for OpenScale to monitor."
   ]
  },
  {
   "cell_type": "code",
   "execution_count": null,
   "metadata": {},
   "outputs": [],
   "source": []
  }
 ],
 "metadata": {
  "kernelspec": {
   "display_name": "Python 3.6",
   "language": "python",
   "name": "python3"
  },
  "language_info": {
   "codemirror_mode": {
    "name": "ipython",
    "version": 3
   },
   "file_extension": ".py",
   "mimetype": "text/x-python",
   "name": "python",
   "nbconvert_exporter": "python",
   "pygments_lexer": "ipython3",
   "version": "3.6.8"
  }
 },
 "nbformat": 4,
 "nbformat_minor": 1
}
